{
 "cells": [
  {
   "cell_type": "markdown",
   "id": "6b1e6931",
   "metadata": {},
   "source": [
    "# PA2 Version 1 Jupyter"
   ]
  },
  {
   "cell_type": "markdown",
   "id": "d1dbd586",
   "metadata": {},
   "source": [
    "## Alexis Tobias"
   ]
  },
  {
   "cell_type": "markdown",
   "id": "806217b9",
   "metadata": {},
   "source": [
    "#### Fall 2023 Computer Programming"
   ]
  },
  {
   "cell_type": "markdown",
   "id": "d744ad1f",
   "metadata": {},
   "source": [
    "### Task 1"
   ]
  },
  {
   "cell_type": "code",
   "execution_count": 1,
   "id": "04f58be0",
   "metadata": {},
   "outputs": [],
   "source": [
    "NAME= \"Alexis\""
   ]
  },
  {
   "cell_type": "code",
   "execution_count": 2,
   "id": "06a91134",
   "metadata": {},
   "outputs": [],
   "source": [
    "AGE= \"29\""
   ]
  },
  {
   "cell_type": "code",
   "execution_count": 3,
   "id": "074c4e35",
   "metadata": {},
   "outputs": [],
   "source": [
    "HEIGHT=\"162.56\""
   ]
  },
  {
   "cell_type": "code",
   "execution_count": 4,
   "id": "f5bfb30f",
   "metadata": {},
   "outputs": [],
   "source": [
    "COLOR=\"orange\""
   ]
  },
  {
   "cell_type": "code",
   "execution_count": 5,
   "id": "2f7b8a5e",
   "metadata": {},
   "outputs": [
    {
     "name": "stdout",
     "output_type": "stream",
     "text": [
      "My name is Alexis, I am 29 years old, I am 162.56 cm tall, and my favorite color is orange.\n"
     ]
    }
   ],
   "source": [
    "print(\"My name is \" + NAME + \", I am \" + AGE + \" years old, I am \" + HEIGHT + \" cm tall, and my favorite color is \" + COLOR + \".\")"
   ]
  },
  {
   "cell_type": "markdown",
   "id": "76108e7b",
   "metadata": {},
   "source": [
    "### Task 2"
   ]
  },
  {
   "cell_type": "code",
   "execution_count": 6,
   "id": "35114ab1",
   "metadata": {},
   "outputs": [],
   "source": [
    "celsius_temp=22"
   ]
  },
  {
   "cell_type": "code",
   "execution_count": 7,
   "id": "649544b6",
   "metadata": {},
   "outputs": [],
   "source": [
    "Celsius_to_Fahrenheit= (celsius_temp * 9/5) + 32"
   ]
  },
  {
   "cell_type": "code",
   "execution_count": 8,
   "id": "9973b9f9",
   "metadata": {},
   "outputs": [
    {
     "data": {
      "text/plain": [
       "71.6"
      ]
     },
     "execution_count": 8,
     "metadata": {},
     "output_type": "execute_result"
    }
   ],
   "source": [
    "Celsius_to_Fahrenheit"
   ]
  },
  {
   "cell_type": "code",
   "execution_count": 9,
   "id": "f7115b52",
   "metadata": {},
   "outputs": [
    {
     "name": "stdout",
     "output_type": "stream",
     "text": [
      "The temperature is  22 °C, which is  71.6 °F.\n"
     ]
    }
   ],
   "source": [
    "print( \"The temperature is \" , celsius_temp,\"°C, which is \" , Celsius_to_Fahrenheit , \"°F.\" )"
   ]
  },
  {
   "cell_type": "markdown",
   "id": "f371e452",
   "metadata": {},
   "source": [
    "### Task 3"
   ]
  },
  {
   "cell_type": "code",
   "execution_count": 10,
   "id": "2fbddcc2",
   "metadata": {},
   "outputs": [],
   "source": [
    "num1=3"
   ]
  },
  {
   "cell_type": "code",
   "execution_count": 11,
   "id": "6d5fa58a",
   "metadata": {},
   "outputs": [],
   "source": [
    "num2=7"
   ]
  },
  {
   "cell_type": "code",
   "execution_count": 42,
   "id": "1d91a981",
   "metadata": {},
   "outputs": [
    {
     "name": "stdout",
     "output_type": "stream",
     "text": [
      "sum = 10\n"
     ]
    }
   ],
   "source": [
    "print(\"sum =\",num1 + num2)"
   ]
  },
  {
   "cell_type": "code",
   "execution_count": 43,
   "id": "7c392da3",
   "metadata": {},
   "outputs": [
    {
     "name": "stdout",
     "output_type": "stream",
     "text": [
      "subtraction = 4\n"
     ]
    }
   ],
   "source": [
    "print(\"subtraction =\",num2-num1)"
   ]
  },
  {
   "cell_type": "code",
   "execution_count": 44,
   "id": "dfb6c415",
   "metadata": {},
   "outputs": [
    {
     "name": "stdout",
     "output_type": "stream",
     "text": [
      "multiplication = 21\n"
     ]
    }
   ],
   "source": [
    "print(\"multiplication =\",num1 * num2)"
   ]
  },
  {
   "cell_type": "code",
   "execution_count": 45,
   "id": "3eea389a",
   "metadata": {},
   "outputs": [
    {
     "name": "stdout",
     "output_type": "stream",
     "text": [
      "division = 0.42857142857142855\n"
     ]
    }
   ],
   "source": [
    "print(\"division =\",num1 / num2)"
   ]
  },
  {
   "cell_type": "code",
   "execution_count": 46,
   "id": "44cc9ba3",
   "metadata": {},
   "outputs": [
    {
     "name": "stdout",
     "output_type": "stream",
     "text": [
      "division = 0\n"
     ]
    }
   ],
   "source": [
    "print(\"division =\", num1 //num2)"
   ]
  },
  {
   "cell_type": "markdown",
   "id": "0044dc48",
   "metadata": {},
   "source": [
    "### Task 4"
   ]
  },
  {
   "cell_type": "code",
   "execution_count": 16,
   "id": "a1223d7a",
   "metadata": {},
   "outputs": [],
   "source": [
    "QUOTE=\" Ask and it will be given to you; seek and you will find; knock and the door will be opened to you. For everyone who asks receives; the one who seeks finds; and to the one who knocks, the door will be opened. ~ Matthew 7:7-8 \""
   ]
  },
  {
   "cell_type": "code",
   "execution_count": 17,
   "id": "7a2b03cc",
   "metadata": {},
   "outputs": [
    {
     "name": "stdout",
     "output_type": "stream",
     "text": [
      " Ask and it will be given to you; seek and you will find; knock and the door will be opened to you. For everyone who asks receives; the one who seeks finds; and to the one who knocks, the door will be opened. ~ Matthew 7:7-8 \n"
     ]
    }
   ],
   "source": [
    "print(QUOTE)"
   ]
  },
  {
   "cell_type": "code",
   "execution_count": 18,
   "id": "359f2777",
   "metadata": {},
   "outputs": [
    {
     "data": {
      "text/plain": [
       "225"
      ]
     },
     "execution_count": 18,
     "metadata": {},
     "output_type": "execute_result"
    }
   ],
   "source": [
    "len(QUOTE)"
   ]
  },
  {
   "cell_type": "code",
   "execution_count": 19,
   "id": "ae711589",
   "metadata": {},
   "outputs": [
    {
     "data": {
      "text/plain": [
       "' ASK AND IT WILL BE GIVEN TO YOU; SEEK AND YOU WILL FIND; KNOCK AND THE DOOR WILL BE OPENED TO YOU. FOR EVERYONE WHO ASKS RECEIVES; THE ONE WHO SEEKS FINDS; AND TO THE ONE WHO KNOCKS, THE DOOR WILL BE OPENED. ~ MATTHEW 7:7-8 '"
      ]
     },
     "execution_count": 19,
     "metadata": {},
     "output_type": "execute_result"
    }
   ],
   "source": [
    "QUOTE.upper()"
   ]
  },
  {
   "cell_type": "code",
   "execution_count": 20,
   "id": "75035575",
   "metadata": {},
   "outputs": [
    {
     "data": {
      "text/plain": [
       "' ask and it will be given to you; seek and you will find; knock and the door will be opened to you. for everyone who asks receives; the one who seeks finds; and to the one who knocks, the door will be opened. ~ matthew 7:7-8 '"
      ]
     },
     "execution_count": 20,
     "metadata": {},
     "output_type": "execute_result"
    }
   ],
   "source": [
    "QUOTE.lower()"
   ]
  },
  {
   "cell_type": "code",
   "execution_count": 21,
   "id": "18530a3c",
   "metadata": {
    "scrolled": true
   },
   "outputs": [
    {
     "data": {
      "text/plain": [
       "'Ask and it will be given to you; seek and you will find; knock and the door will be opened to you. For everyone who asks receives; the one who seeks finds; and to the one who knocks, the door will be opened. ~ Matthew 7:7-8'"
      ]
     },
     "execution_count": 21,
     "metadata": {},
     "output_type": "execute_result"
    }
   ],
   "source": [
    "QUOTE.strip(\" \")"
   ]
  },
  {
   "cell_type": "code",
   "execution_count": 26,
   "id": "97e44a50",
   "metadata": {
    "scrolled": true
   },
   "outputs": [
    {
     "data": {
      "text/plain": [
       "['',\n",
       " 'Ask',\n",
       " 'and',\n",
       " 'it',\n",
       " 'will',\n",
       " 'be',\n",
       " 'given',\n",
       " 'to',\n",
       " 'you;',\n",
       " 'seek',\n",
       " 'and',\n",
       " 'you',\n",
       " 'will',\n",
       " 'find;',\n",
       " 'knock',\n",
       " 'and',\n",
       " 'the',\n",
       " 'door',\n",
       " 'will',\n",
       " 'be',\n",
       " 'opened',\n",
       " 'to',\n",
       " 'you.',\n",
       " 'For',\n",
       " 'everyone',\n",
       " 'who',\n",
       " 'asks',\n",
       " 'receives;',\n",
       " 'the',\n",
       " 'one',\n",
       " 'who',\n",
       " 'seeks',\n",
       " 'finds;',\n",
       " 'and',\n",
       " 'to',\n",
       " 'the',\n",
       " 'one',\n",
       " 'who',\n",
       " 'knocks,',\n",
       " 'the',\n",
       " 'door',\n",
       " 'will',\n",
       " 'be',\n",
       " 'opened.',\n",
       " '~',\n",
       " 'Matthew',\n",
       " '7:7-8',\n",
       " '']"
      ]
     },
     "execution_count": 26,
     "metadata": {},
     "output_type": "execute_result"
    }
   ],
   "source": [
    "QUOTE.split(sep=\" \")"
   ]
  },
  {
   "cell_type": "markdown",
   "id": "553f2007",
   "metadata": {},
   "source": [
    "### Task 5"
   ]
  },
  {
   "cell_type": "code",
   "execution_count": 30,
   "id": "8f4ce382",
   "metadata": {},
   "outputs": [
    {
     "name": "stdout",
     "output_type": "stream",
     "text": [
      "Enter your favorite whole number: 6\n"
     ]
    }
   ],
   "source": [
    "number1=int(input(\"Enter your favorite whole number: \"))"
   ]
  },
  {
   "cell_type": "code",
   "execution_count": 28,
   "id": "e952f8c6",
   "metadata": {},
   "outputs": [
    {
     "name": "stdout",
     "output_type": "stream",
     "text": [
      "Enter the total number of cars you have owned: 2\n"
     ]
    }
   ],
   "source": [
    "number2=int(input(\"Enter the total number of cars you have owned: \"))"
   ]
  },
  {
   "cell_type": "code",
   "execution_count": 47,
   "id": "b7eee409",
   "metadata": {},
   "outputs": [
    {
     "name": "stdout",
     "output_type": "stream",
     "text": [
      "sum = 8\n"
     ]
    }
   ],
   "source": [
    "print(\"sum =\",number1 + number2)"
   ]
  },
  {
   "cell_type": "code",
   "execution_count": 48,
   "id": "2e93590a",
   "metadata": {},
   "outputs": [
    {
     "name": "stdout",
     "output_type": "stream",
     "text": [
      "subtraction = 4\n"
     ]
    }
   ],
   "source": [
    "print(\"subtraction =\", number1 - number2)"
   ]
  },
  {
   "cell_type": "code",
   "execution_count": 49,
   "id": "2ed65465",
   "metadata": {},
   "outputs": [
    {
     "name": "stdout",
     "output_type": "stream",
     "text": [
      "multiplication = 12\n"
     ]
    }
   ],
   "source": [
    "print(\"multiplication =\",number1 * number2)"
   ]
  },
  {
   "cell_type": "code",
   "execution_count": 50,
   "id": "87aa4c05",
   "metadata": {},
   "outputs": [
    {
     "name": "stdout",
     "output_type": "stream",
     "text": [
      "division = 3\n"
     ]
    }
   ],
   "source": [
    "print(\"division =\",number1 // number2)"
   ]
  },
  {
   "cell_type": "code",
   "execution_count": null,
   "id": "8b63988e",
   "metadata": {},
   "outputs": [],
   "source": []
  },
  {
   "cell_type": "code",
   "execution_count": null,
   "id": "fb703f9e",
   "metadata": {},
   "outputs": [],
   "source": []
  },
  {
   "cell_type": "code",
   "execution_count": null,
   "id": "33b3a2f8",
   "metadata": {},
   "outputs": [],
   "source": []
  }
 ],
 "metadata": {
  "kernelspec": {
   "display_name": "Python 3 (ipykernel)",
   "language": "python",
   "name": "python3"
  },
  "language_info": {
   "codemirror_mode": {
    "name": "ipython",
    "version": 3
   },
   "file_extension": ".py",
   "mimetype": "text/x-python",
   "name": "python",
   "nbconvert_exporter": "python",
   "pygments_lexer": "ipython3",
   "version": "3.11.5"
  }
 },
 "nbformat": 4,
 "nbformat_minor": 5
}
